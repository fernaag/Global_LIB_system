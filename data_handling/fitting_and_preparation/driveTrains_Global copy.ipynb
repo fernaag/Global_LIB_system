{
 "cells": [
  {
   "cell_type": "code",
   "execution_count": 1,
   "metadata": {},
   "outputs": [
    {
     "name": "stderr",
     "output_type": "stream",
     "text": [
      "INFO (<ipython-input-1-c6f67b9b0af1> <<module>>): ### 1. - Initialize.\n",
      "INFO (<ipython-input-1-c6f67b9b0af1> <<module>>): Read and parse config table, including the model index table, from model config sheet.\n",
      "INFO (ODYM_Functions.py <ParseConfigFile>): Read parameter list from model config sheet.\n",
      "INFO (ODYM_Functions.py <ParseConfigFile>): Read process list from model config sheet.\n",
      "INFO (ODYM_Functions.py <ParseConfigFile>): Read model run control from model config sheet.\n",
      "INFO (ODYM_Functions.py <ParseConfigFile>): Read model output control from model config sheet.\n",
      "INFO (ODYM_Functions.py <ParseClassificationFile_Main>): End of file or formatting error while reading the classification file in column 20. Check if all classifications are present. If yes, you are good to go!\n",
      "INFO (<ipython-input-1-c6f67b9b0af1> <<module>>): Define model classifications and select items for model classifications according to information provided by config file.\n",
      "INFO (<ipython-input-1-c6f67b9b0af1> <<module>>): ### 2.2 - Define model index table and parameter dictionary\n",
      "INFO (<ipython-input-1-c6f67b9b0af1> <<module>>): Define index table dataframe.\n"
     ]
    },
    {
     "name": "stdout",
     "output_type": "stream",
     "text": [
      "Vehicle stock model for Global fleet\n"
     ]
    }
   ],
   "source": [
    "# Load a local copy of the current ODYM branch:\n",
    "import sys\n",
    "import os\n",
    "import numpy as np\n",
    "import pandas as pd\n",
    "import matplotlib.pyplot as plt\n",
    "import pickle\n",
    "import xlrd\n",
    "import pylab\n",
    "from copy import deepcopy\n",
    "import logging as log\n",
    "import xlwt\n",
    "import tqdm\n",
    "import math\n",
    "from scipy.stats import norm\n",
    "from openpyxl import *\n",
    "from scipy.optimize import curve_fit\n",
    "from scipy.stats import gompertz\n",
    "from sklearn.metrics import r2_score\n",
    "from logistic import logistic as logistic\n",
    "from cycler import cycler\n",
    "import seaborn as sns\n",
    "mpl_logger = log.getLogger(\"matplotlib\")\n",
    "mpl_logger.setLevel(log.WARNING) \n",
    "custom_cycler = cycler(color=sns.color_palette('Set2', 11)) #'Set2', 'Paired', 'YlGnBu'\n",
    "### Preamble\n",
    "os.getcwd()\n",
    "os.chdir(\"..\")\n",
    "os.chdir(\"..\")\n",
    "# add ODYM module directory to system path, relative\n",
    "MainPath = os.path.join(os.getcwd(), 'odym', 'modules')\n",
    "sys.path.insert(0, MainPath)\n",
    "\n",
    "# add ODYM module directory to system path, absolute\n",
    "sys.path.insert(0, os.path.join(os.getcwd(), 'odym', 'modules'))\n",
    "\n",
    "# Specify path to dynamic stock model and to datafile, relative\n",
    "DataPath = os.path.join( 'docs', 'files')\n",
    "\n",
    "# Specify path to dynamic stock model and to datafile, absolute\n",
    "DataPath = os.path.join(os.getcwd(), 'docs', 'Files')\n",
    "\n",
    "import ODYM_Classes as msc # import the ODYM class file\n",
    "import ODYM_Functions as msf # import the ODYM function file\n",
    "import dynamic_stock_model as dsm # import the dynamic stock model library\n",
    "\n",
    "# Initialize loggin routine\n",
    "log_verbosity = eval(\"log.DEBUG\")\n",
    "log_filename = 'LogFileTest.md'\n",
    "[Mylog, console_log, file_log] = msf.function_logger(log_filename, os.getcwd(),\n",
    "                                                     log_verbosity, log_verbosity)\n",
    "Mylog.info('### 1. - Initialize.')\n",
    "\n",
    "#Read main script parameters\n",
    "#Load project-specific config file\n",
    "ProjectSpecs_ConFile = 'ODYM_Config_Vehicle_System.xlsx'\n",
    "Model_Configfile     = xlrd.open_workbook(os.path.join(DataPath, ProjectSpecs_ConFile))\n",
    "ScriptConfig         = {'Model Setting': Model_Configfile.sheet_by_name('Config').cell_value(3,3)} # Dictionary with config parameters\n",
    "Model_Configsheet    = Model_Configfile.sheet_by_name('Setting_' + ScriptConfig['Model Setting'])\n",
    "\n",
    "Name_Scenario        = Model_Configsheet.cell_value(3,3)\n",
    "print(Name_Scenario)\n",
    "\n",
    "#Read control and selection parameters into dictionary\n",
    "ScriptConfig         = msf.ParseModelControl(Model_Configsheet,ScriptConfig)\n",
    "\n",
    "Mylog.info('Read and parse config table, including the model index table, from model config sheet.')\n",
    "IT_Aspects,IT_Description,IT_Dimension,IT_Classification,IT_Selector,IT_IndexLetter,\\\n",
    "PL_Names,PL_Description,PL_Version,PL_IndexStructure,PL_IndexMatch,PL_IndexLayer,\\\n",
    "PrL_Number,PrL_Name,PrL_Comment,PrL_Type,ScriptConfig = msf.ParseConfigFile(Model_Configsheet,ScriptConfig,Mylog)    \n",
    "\n",
    "class_filename       = 'ODYM_Classifications_Master_Vehicle_System.xlsx'\n",
    "Classfile            = xlrd.open_workbook(os.path.join(DataPath,class_filename))\n",
    "Classsheet           = Classfile.sheet_by_name('MAIN_Table')\n",
    "MasterClassification = msf.ParseClassificationFile_Main(Classsheet,Mylog)\n",
    "\n",
    "Mylog.info('Define model classifications and select items for model classifications according to information provided by config file.')\n",
    "ModelClassification  = {} # Dict of model classifications\n",
    "for m in range(0,len(IT_Aspects)):\n",
    "    ModelClassification[IT_Aspects[m]] = deepcopy(MasterClassification[IT_Classification[m]])\n",
    "    EvalString = msf.EvalItemSelectString(IT_Selector[m],len(ModelClassification[IT_Aspects[m]].Items))\n",
    "    if EvalString.find(':') > -1: # range of items is taken\n",
    "        RangeStart = int(EvalString[0:EvalString.find(':')])\n",
    "        RangeStop  = int(EvalString[EvalString.find(':')+1::])\n",
    "        ModelClassification[IT_Aspects[m]].Items = ModelClassification[IT_Aspects[m]].Items[RangeStart:RangeStop]           \n",
    "    elif EvalString.find('[') > -1: # selected items are taken\n",
    "        ModelClassification[IT_Aspects[m]].Items = [ModelClassification[IT_Aspects[m]].Items[i] for i in eval(EvalString)]\n",
    "    elif EvalString == 'all':\n",
    "        None\n",
    "    else:\n",
    "        Mylog.error('Item select error for aspect ' + IT_Aspects[m] + ' were found in datafile.')\n",
    "        break\n",
    "\n",
    "# Define model index table and parameter dictionary\n",
    "Mylog.info('### 2.2 - Define model index table and parameter dictionary')\n",
    "Model_Time_Start = int(min(ModelClassification['Time'].Items))\n",
    "Model_Time_End   = int(max(ModelClassification['Time'].Items))\n",
    "Model_Duration   = Model_Time_End - Model_Time_Start + 1\n",
    "\n",
    "Mylog.info('Define index table dataframe.')\n",
    "IndexTable = pd.DataFrame({'Aspect'        : IT_Aspects,  # 'Time' and 'Element' must be present!\n",
    "                           'Description'   : IT_Description,\n",
    "                           'Dimension'     : IT_Dimension,\n",
    "                           'Classification': [ModelClassification[Aspect] for Aspect in IT_Aspects],\n",
    "                           'IndexLetter'   : IT_IndexLetter})  # Unique one letter (upper or lower case) indices to be used later for calculations.\n",
    "\n",
    "# Default indexing of IndexTable, other indices are produced on the fly\n",
    "IndexTable.set_index('Aspect', inplace=True)\n",
    "\n",
    "# Add indexSize to IndexTable:\n",
    "IndexTable['IndexSize'] = pd.Series([len(IndexTable.Classification[i].Items) for i in range(0, len(IndexTable.IndexLetter))],\n",
    "                                    index=IndexTable.index)\n",
    "\n",
    "# list of the classifications used for each indexletter\n",
    "IndexTable_ClassificationNames = [IndexTable.Classification[i].Name for i in range(0, len(IndexTable.IndexLetter))]\n",
    "\n",
    "# Define dimension sizes\n",
    "Nt = len(IndexTable.Classification[IndexTable.index.get_loc('Time')].Items)\n",
    "Nc = len(IndexTable.Classification[IndexTable.index.get_loc('Age-cohort')].Items)\n",
    "Ng = len(IndexTable.Classification[IndexTable.index.get_loc('Good')].Items)\n",
    "Nr = len(IndexTable.Classification[IndexTable.index.get_loc('Region')].Items)\n",
    "Ne = len(IndexTable.Classification[IndexTable.index.get_loc('Element')].Items)\n",
    "Nb = len(IndexTable.Classification[IndexTable.index.get_loc('Battery_Chemistry')].Items)\n",
    "Np = len(IndexTable.Classification[IndexTable.index.get_loc('Battery_Parts')].Items)\n",
    "Ns = len(IndexTable.Classification[IndexTable.index.get_loc('Segment')].Items)\n",
    "Nh = len(IndexTable.Classification[IndexTable.index.get_loc('Recycling_Process')].Items)\n",
    "NS = len(IndexTable.Classification[IndexTable.index.get_loc('Scenario')].Items)\n",
    "Na = len(IndexTable.Classification[IndexTable.index.get_loc('Chemistry_Scenarios')].Items)"
   ]
  },
  {
   "cell_type": "code",
   "execution_count": 2,
   "metadata": {},
   "outputs": [
    {
     "data": {
      "text/html": [
       "<div>\n",
       "<style scoped>\n",
       "    .dataframe tbody tr th:only-of-type {\n",
       "        vertical-align: middle;\n",
       "    }\n",
       "\n",
       "    .dataframe tbody tr th {\n",
       "        vertical-align: top;\n",
       "    }\n",
       "\n",
       "    .dataframe thead th {\n",
       "        text-align: right;\n",
       "    }\n",
       "</style>\n",
       "<table border=\"1\" class=\"dataframe\">\n",
       "  <thead>\n",
       "    <tr style=\"text-align: right;\">\n",
       "      <th></th>\n",
       "      <th>scenario</th>\n",
       "      <th>drive_train</th>\n",
       "      <th>penetration</th>\n",
       "      <th>year</th>\n",
       "      <th>source</th>\n",
       "    </tr>\n",
       "  </thead>\n",
       "  <tbody>\n",
       "    <tr>\n",
       "      <th>0</th>\n",
       "      <td>STEP</td>\n",
       "      <td>BEV</td>\n",
       "      <td>0.0216</td>\n",
       "      <td>2019</td>\n",
       "      <td>Global EV outlook</td>\n",
       "    </tr>\n",
       "    <tr>\n",
       "      <th>1</th>\n",
       "      <td>STEP</td>\n",
       "      <td>BEV</td>\n",
       "      <td>0.0670</td>\n",
       "      <td>2025</td>\n",
       "      <td>Global EV outlook</td>\n",
       "    </tr>\n",
       "    <tr>\n",
       "      <th>2</th>\n",
       "      <td>STEP</td>\n",
       "      <td>BEV</td>\n",
       "      <td>0.0960</td>\n",
       "      <td>2030</td>\n",
       "      <td>Global EV outlook</td>\n",
       "    </tr>\n",
       "    <tr>\n",
       "      <th>3</th>\n",
       "      <td>STEP</td>\n",
       "      <td>BEV</td>\n",
       "      <td>0.3000</td>\n",
       "      <td>2050</td>\n",
       "      <td>Assumption</td>\n",
       "    </tr>\n",
       "    <tr>\n",
       "      <th>4</th>\n",
       "      <td>STEP</td>\n",
       "      <td>PHEV</td>\n",
       "      <td>0.0084</td>\n",
       "      <td>2019</td>\n",
       "      <td>Global EV outlook</td>\n",
       "    </tr>\n",
       "    <tr>\n",
       "      <th>5</th>\n",
       "      <td>STEP</td>\n",
       "      <td>PHEV</td>\n",
       "      <td>0.0330</td>\n",
       "      <td>2025</td>\n",
       "      <td>Global EV outlook</td>\n",
       "    </tr>\n",
       "    <tr>\n",
       "      <th>6</th>\n",
       "      <td>STEP</td>\n",
       "      <td>PHEV</td>\n",
       "      <td>0.0540</td>\n",
       "      <td>2030</td>\n",
       "      <td>Global EV outlook</td>\n",
       "    </tr>\n",
       "    <tr>\n",
       "      <th>7</th>\n",
       "      <td>STEP</td>\n",
       "      <td>PHEV</td>\n",
       "      <td>0.2000</td>\n",
       "      <td>2050</td>\n",
       "      <td>Assumption</td>\n",
       "    </tr>\n",
       "    <tr>\n",
       "      <th>8</th>\n",
       "      <td>SD</td>\n",
       "      <td>BEV</td>\n",
       "      <td>0.0216</td>\n",
       "      <td>2019</td>\n",
       "      <td>Global EV outlook</td>\n",
       "    </tr>\n",
       "    <tr>\n",
       "      <th>9</th>\n",
       "      <td>SD</td>\n",
       "      <td>BEV</td>\n",
       "      <td>0.1206</td>\n",
       "      <td>2025</td>\n",
       "      <td>Global EV outlook</td>\n",
       "    </tr>\n",
       "    <tr>\n",
       "      <th>10</th>\n",
       "      <td>SD</td>\n",
       "      <td>BEV</td>\n",
       "      <td>0.2376</td>\n",
       "      <td>2030</td>\n",
       "      <td>Global EV outlook</td>\n",
       "    </tr>\n",
       "    <tr>\n",
       "      <th>11</th>\n",
       "      <td>SD</td>\n",
       "      <td>BEV</td>\n",
       "      <td>0.6000</td>\n",
       "      <td>2050</td>\n",
       "      <td>Assumption</td>\n",
       "    </tr>\n",
       "    <tr>\n",
       "      <th>12</th>\n",
       "      <td>SD</td>\n",
       "      <td>PHEV</td>\n",
       "      <td>0.0084</td>\n",
       "      <td>2019</td>\n",
       "      <td>Global EV outlook</td>\n",
       "    </tr>\n",
       "    <tr>\n",
       "      <th>13</th>\n",
       "      <td>SD</td>\n",
       "      <td>PHEV</td>\n",
       "      <td>0.0594</td>\n",
       "      <td>2025</td>\n",
       "      <td>Global EV outlook</td>\n",
       "    </tr>\n",
       "    <tr>\n",
       "      <th>14</th>\n",
       "      <td>SD</td>\n",
       "      <td>PHEV</td>\n",
       "      <td>0.0924</td>\n",
       "      <td>2030</td>\n",
       "      <td>Global EV outlook</td>\n",
       "    </tr>\n",
       "    <tr>\n",
       "      <th>15</th>\n",
       "      <td>SD</td>\n",
       "      <td>PHEV</td>\n",
       "      <td>0.1500</td>\n",
       "      <td>2050</td>\n",
       "      <td>Assumption</td>\n",
       "    </tr>\n",
       "    <tr>\n",
       "      <th>16</th>\n",
       "      <td>Net Zero</td>\n",
       "      <td>BEV</td>\n",
       "      <td>0.0200</td>\n",
       "      <td>2019</td>\n",
       "      <td>Net Zero by 2050</td>\n",
       "    </tr>\n",
       "    <tr>\n",
       "      <th>17</th>\n",
       "      <td>Net Zero</td>\n",
       "      <td>BEV</td>\n",
       "      <td>0.5500</td>\n",
       "      <td>2030</td>\n",
       "      <td>Net Zero by 2050</td>\n",
       "    </tr>\n",
       "    <tr>\n",
       "      <th>18</th>\n",
       "      <td>Net Zero</td>\n",
       "      <td>BEV</td>\n",
       "      <td>0.9000</td>\n",
       "      <td>2050</td>\n",
       "      <td>Net Zero by 2050</td>\n",
       "    </tr>\n",
       "    <tr>\n",
       "      <th>19</th>\n",
       "      <td>Net Zero</td>\n",
       "      <td>PHEV</td>\n",
       "      <td>0.0080</td>\n",
       "      <td>2019</td>\n",
       "      <td>Net Zero by 2050</td>\n",
       "    </tr>\n",
       "    <tr>\n",
       "      <th>20</th>\n",
       "      <td>Net Zero</td>\n",
       "      <td>PHEV</td>\n",
       "      <td>0.0600</td>\n",
       "      <td>2030</td>\n",
       "      <td>Net Zero by 2050</td>\n",
       "    </tr>\n",
       "    <tr>\n",
       "      <th>21</th>\n",
       "      <td>Net Zero</td>\n",
       "      <td>PHEV</td>\n",
       "      <td>0.0000</td>\n",
       "      <td>2050</td>\n",
       "      <td>Net Zero by 2050</td>\n",
       "    </tr>\n",
       "    <tr>\n",
       "      <th>22</th>\n",
       "      <td>Net Zero</td>\n",
       "      <td>OTH</td>\n",
       "      <td>0.0000</td>\n",
       "      <td>2019</td>\n",
       "      <td>Net Zero by 2050</td>\n",
       "    </tr>\n",
       "    <tr>\n",
       "      <th>23</th>\n",
       "      <td>Net Zero</td>\n",
       "      <td>OTH</td>\n",
       "      <td>0.0200</td>\n",
       "      <td>2030</td>\n",
       "      <td>Net Zero by 2050</td>\n",
       "    </tr>\n",
       "    <tr>\n",
       "      <th>24</th>\n",
       "      <td>Net Zero</td>\n",
       "      <td>OTH</td>\n",
       "      <td>0.1000</td>\n",
       "      <td>2050</td>\n",
       "      <td>Net Zero by 2050</td>\n",
       "    </tr>\n",
       "  </tbody>\n",
       "</table>\n",
       "</div>"
      ],
      "text/plain": [
       "    scenario drive_train  penetration  year             source\n",
       "0       STEP         BEV       0.0216  2019  Global EV outlook\n",
       "1       STEP         BEV       0.0670  2025  Global EV outlook\n",
       "2       STEP         BEV       0.0960  2030  Global EV outlook\n",
       "3       STEP         BEV       0.3000  2050         Assumption\n",
       "4       STEP        PHEV       0.0084  2019  Global EV outlook\n",
       "5       STEP        PHEV       0.0330  2025  Global EV outlook\n",
       "6       STEP        PHEV       0.0540  2030  Global EV outlook\n",
       "7       STEP        PHEV       0.2000  2050         Assumption\n",
       "8         SD         BEV       0.0216  2019  Global EV outlook\n",
       "9         SD         BEV       0.1206  2025  Global EV outlook\n",
       "10        SD         BEV       0.2376  2030  Global EV outlook\n",
       "11        SD         BEV       0.6000  2050         Assumption\n",
       "12        SD        PHEV       0.0084  2019  Global EV outlook\n",
       "13        SD        PHEV       0.0594  2025  Global EV outlook\n",
       "14        SD        PHEV       0.0924  2030  Global EV outlook\n",
       "15        SD        PHEV       0.1500  2050         Assumption\n",
       "16  Net Zero         BEV       0.0200  2019   Net Zero by 2050\n",
       "17  Net Zero         BEV       0.5500  2030   Net Zero by 2050\n",
       "18  Net Zero         BEV       0.9000  2050   Net Zero by 2050\n",
       "19  Net Zero        PHEV       0.0080  2019   Net Zero by 2050\n",
       "20  Net Zero        PHEV       0.0600  2030   Net Zero by 2050\n",
       "21  Net Zero        PHEV       0.0000  2050   Net Zero by 2050\n",
       "22  Net Zero         OTH       0.0000  2019   Net Zero by 2050\n",
       "23  Net Zero         OTH       0.0200  2030   Net Zero by 2050\n",
       "24  Net Zero         OTH       0.1000  2050   Net Zero by 2050"
      ]
     },
     "execution_count": 2,
     "metadata": {},
     "output_type": "execute_result"
    }
   ],
   "source": [
    "# Import scenario data\n",
    "df = pd.read_excel(\"/Users/fernaag/Library/CloudStorage/Box-Box/BATMAN/Data/Database/data/03_scenario_data/global_model/motorEnergy/drive_trains_IEA.xlsx\", \"drive_trains\")\n",
    "df"
   ]
  },
  {
   "cell_type": "code",
   "execution_count": 3,
   "metadata": {},
   "outputs": [
    {
     "name": "stderr",
     "output_type": "stream",
     "text": [
      "/Users/fernaag/opt/anaconda3/envs/IAM/lib/python3.7/site-packages/scipy/optimize/minpack.py:795: OptimizeWarning: Covariance of the parameters could not be estimated\n",
      "  category=OptimizeWarning)\n"
     ]
    }
   ],
   "source": [
    "# Create logistic fits for BEV\n",
    "# Trying logistic\n",
    "t = np.arange(1950,2051)\n",
    "dt_fit = np.zeros((NS, Ng,len(t)))\n",
    "for i,s in enumerate(df['scenario'].unique()):\n",
    "        try:\n",
    "            popt, pcov = curve_fit(logistic, df.loc[(df['scenario']==s) & (df['drive_train']=='BEV'), 'year'].values, df.loc[(df['scenario']==s) & (df['drive_train']=='BEV'), 'penetration'].values, bounds=([1950, 0., 0, 0], [2050, 1000, 0.5, 1])) # Bounds are set as ([low_ti, low_tau, low_Co, low_C1],[high_ti,high_tau, high_Co, high_C1 ])\n",
    "            dt_fit[i,1,:] = logistic(t, *popt)\n",
    "        except:\n",
    "            pass"
   ]
  },
  {
   "cell_type": "code",
   "execution_count": 4,
   "metadata": {},
   "outputs": [],
   "source": [
    "# # Set values prior to 2011 to zero and reduce the error generated during the fit\n",
    "dt_fit[:,1,:63] = 0\n",
    "for i in range(3):\n",
    "    dt_fit[i,1,63::] = dt_fit[i,1,63::] - dt_fit[i,1,63] "
   ]
  },
  {
   "cell_type": "code",
   "execution_count": 5,
   "metadata": {},
   "outputs": [
    {
     "data": {
      "text/plain": [
       "0.0023242627172166287"
      ]
     },
     "execution_count": 5,
     "metadata": {},
     "output_type": "execute_result"
    }
   ],
   "source": [
    "dt_fit[1,1,64]"
   ]
  },
  {
   "cell_type": "code",
   "execution_count": 6,
   "metadata": {},
   "outputs": [
    {
     "data": {
      "text/plain": [
       "Text(0.5, 0, 'Year')"
      ]
     },
     "execution_count": 6,
     "metadata": {},
     "output_type": "execute_result"
    },
    {
     "data": {
      "image/png": "[encoded data removed]",
      "text/plain": [
       "<Figure size 432x288 with 1 Axes>"
      ]
     },
     "metadata": {
      "needs_background": "light"
     },
     "output_type": "display_data"
    }
   ],
   "source": [
    "MyColorCycle = pylab.cm.Paired(np.arange(0,1,0.1)) # select 10 colors from the 'Paired' color map.\n",
    "fig, ax = plt.subplots()\n",
    "ax.plot(t[50:], dt_fit[0,1,50::], label='STEP')\n",
    "ax.plot(t[50:], dt_fit[1,1,50:], label='SD')\n",
    "ax.plot(t[50:], dt_fit[2,1,50:],label='Net Zero')\n",
    "ax.plot(df.loc[(df['scenario']=='STEP') & (df['drive_train']=='BEV'), 'year'].values, df.loc[(df['scenario']=='STEP') & (df['drive_train']=='BEV'), 'penetration'].values, 'x', label='STEP data')\n",
    "ax.plot(df.loc[(df['scenario']=='SD') & (df['drive_train']=='BEV'), 'year'].values, df.loc[(df['scenario']=='SD') & (df['drive_train']=='BEV'), 'penetration'].values,'x',label='SD data')\n",
    "ax.plot(df.loc[(df['scenario']=='Net Zero') & (df['drive_train']=='BEV'), 'year'].values, df.loc[(df['scenario']=='Net Zero') & (df['drive_train']=='BEV'), 'penetration'].values,'x',label='Net Zero data')\n",
    "ax.legend( loc='best',prop={'size':10})\n",
    "ax.set_ylabel('Share of sales [%]',fontsize =16)\n",
    "ax.set_title('BEV penetration scenarios'.format(s), fontsize=16)\n",
    "ax.set_xlabel('Year',fontsize =16)"
   ]
  },
  {
   "cell_type": "code",
   "execution_count": 7,
   "metadata": {},
   "outputs": [],
   "source": [
    "# Doing fits for PHEVs\n",
    "# Trying polynomial fit\n",
    "degree = 2\n",
    "for i,s in enumerate(df['scenario'].unique()):\n",
    "    try:\n",
    "        poly = np.poly1d(np.polyfit(df.loc[(df['scenario']==s) & (df['drive_train']=='PHEV'), 'year'].values, df.loc[(df['scenario']==s) & (df['drive_train']=='PHEV'), 'penetration'].values, degree))\n",
    "        dt_fit[i,2,:] = poly(t)\n",
    "        for j in range(len(t)):\n",
    "            if dt_fit[i,2,j]<=0:\n",
    "                dt_fit[i,2,j] = 0\n",
    "        dt_fit[i,2,:60] = 0\n",
    "    except:\n",
    "        pass"
   ]
  },
  {
   "cell_type": "code",
   "execution_count": 8,
   "metadata": {},
   "outputs": [
    {
     "data": {
      "text/plain": [
       "Text(0.5, 0, 'Year')"
      ]
     },
     "execution_count": 8,
     "metadata": {},
     "output_type": "execute_result"
    },
    {
     "data": {
      "image/png": "[encoded data removed]",
      "text/plain": [
       "<Figure size 432x288 with 1 Axes>"
      ]
     },
     "metadata": {
      "needs_background": "light"
     },
     "output_type": "display_data"
    }
   ],
   "source": [
    "MyColorCycle = pylab.cm.Paired(np.arange(0,1,0.1)) # select 10 colors from the 'Paired' color map.\n",
    "fig, ax = plt.subplots()\n",
    "ax.plot(t[59:], dt_fit[0,2,59:], label='STEP')\n",
    "ax.plot(t[59:], dt_fit[1,2,59:], label='SD')\n",
    "ax.plot(t[59:], dt_fit[2,2,59:],label='Net Zero')\n",
    "ax.plot(df.loc[(df['scenario']=='STEP') & (df['drive_train']=='PHEV'), 'year'].values, df.loc[(df['scenario']=='STEP') & (df['drive_train']=='PHEV'), 'penetration'].values, 'x', label='STEP data')\n",
    "ax.plot(df.loc[(df['scenario']=='SD') & (df['drive_train']=='PHEV'), 'year'].values, df.loc[(df['scenario']=='SD') & (df['drive_train']=='PHEV'), 'penetration'].values,'x',label='SD data')\n",
    "ax.plot(df.loc[(df['scenario']=='Net Zero') & (df['drive_train']=='PHEV'), 'year'].values, df.loc[(df['scenario']=='Net Zero') & (df['drive_train']=='PHEV'), 'penetration'].values,'x',label='Net Zero data')\n",
    "ax.legend( loc='best',prop={'size':10})\n",
    "ax.set_ylabel('Share of sales [%]',fontsize =16)\n",
    "ax.set_title('PHEV penetration scenarios'.format(s), fontsize=16)\n",
    "ax.set_xlabel('Year',fontsize =16)"
   ]
  },
  {
   "cell_type": "code",
   "execution_count": 9,
   "metadata": {},
   "outputs": [],
   "source": [
    "# Doing fits for PHEVs\n",
    "# Trying polynomial fit\n",
    "degree = 2\n",
    "for i,s in enumerate(df['scenario'].unique()):\n",
    "    try:\n",
    "        poly = np.poly1d(np.polyfit(df.loc[(df['scenario']==s) & (df['drive_train']=='OTH'), 'year'].values, df.loc[(df['scenario']==s) & (df['drive_train']=='OTH'), 'penetration'].values, degree))\n",
    "        dt_fit[i,3,:] = poly(t)\n",
    "        for j in range(len(t)):\n",
    "            if dt_fit[i,3,j]<=0:\n",
    "                dt_fit[i,3,j] = 0\n",
    "        dt_fit[i,3,:60] = 0\n",
    "    except:\n",
    "        pass"
   ]
  },
  {
   "cell_type": "code",
   "execution_count": 10,
   "metadata": {},
   "outputs": [
    {
     "data": {
      "text/plain": [
       "Text(0.5, 0, 'Year')"
      ]
     },
     "execution_count": 10,
     "metadata": {},
     "output_type": "execute_result"
    },
    {
     "data": {
      "image/png": "[encoded data removed]",
      "text/plain": [
       "<Figure size 432x288 with 1 Axes>"
      ]
     },
     "metadata": {
      "needs_background": "light"
     },
     "output_type": "display_data"
    }
   ],
   "source": [
    "MyColorCycle = pylab.cm.Paired(np.arange(0,1,0.1)) # select 10 colors from the 'Paired' color map.\n",
    "fig, ax = plt.subplots()\n",
    "ax.plot(t[59:], dt_fit[0,3,59:], label='STEP')\n",
    "ax.plot(t[59:], dt_fit[1,3,59:], label='SD')\n",
    "ax.plot(t[59:], dt_fit[2,3,59:],label='Net Zero')\n",
    "ax.plot(df.loc[(df['scenario']=='STEP') & (df['drive_train']=='OTH'), 'year'].values, df.loc[(df['scenario']=='STEP') & (df['drive_train']=='OTH'), 'penetration'].values, 'x', label='STEP data')\n",
    "ax.plot(df.loc[(df['scenario']=='SD') & (df['drive_train']=='OTH'), 'year'].values, df.loc[(df['scenario']=='SD') & (df['drive_train']=='OTH'), 'penetration'].values,'x',label='SD data')\n",
    "ax.plot(df.loc[(df['scenario']=='Net Zero') & (df['drive_train']=='OTH'), 'year'].values, df.loc[(df['scenario']=='Net Zero') & (df['drive_train']=='OTH'), 'penetration'].values,'x',label='Net Zero data')\n",
    "ax.legend( loc='best',prop={'size':10})\n",
    "ax.set_ylabel('Share of sales [%]',fontsize =16)\n",
    "ax.set_title('Other drive trains penetration scenarios'.format(s), fontsize=16)\n",
    "ax.set_xlabel('Year',fontsize =16)"
   ]
  },
  {
   "cell_type": "code",
   "execution_count": 11,
   "metadata": {},
   "outputs": [],
   "source": [
    "# Calculate ICE from mass balance\n",
    "dt_fit[:,0,:] = 1- dt_fit[:,1,:] - dt_fit[:,2,:]- dt_fit[:,3,:]"
   ]
  },
  {
   "cell_type": "code",
   "execution_count": 12,
   "metadata": {},
   "outputs": [
    {
     "data": {
      "text/plain": [
       "Text(0.5, 0, 'Year')"
      ]
     },
     "execution_count": 12,
     "metadata": {},
     "output_type": "execute_result"
    },
    {
     "data": {
      "image/png": "[encoded data removed]",
      "text/plain": [
       "<Figure size 432x288 with 1 Axes>"
      ]
     },
     "metadata": {
      "needs_background": "light"
     },
     "output_type": "display_data"
    }
   ],
   "source": [
    "MyColorCycle = pylab.cm.Paired(np.arange(0,1,0.1)) # select 10 colors from the 'Paired' color map.\n",
    "fig, ax = plt.subplots()\n",
    "ax.plot(t[59:], dt_fit[0,0,59:], label='STEP')\n",
    "ax.plot(t[59:], dt_fit[1,0,59:], label='SD')\n",
    "ax.plot(t[59:], dt_fit[2,0,59:],label='Net Zero')\n",
    "ax.legend( loc='best',prop={'size':10})\n",
    "ax.set_ylabel('Share of sales [%]',fontsize =16)\n",
    "ax.set_title('ICE penetration scenarios'.format(s), fontsize=16)\n",
    "ax.set_xlabel('Year',fontsize =16)"
   ]
  },
  {
   "cell_type": "markdown",
   "metadata": {},
   "source": [
    "## Exporting as dataframe"
   ]
  },
  {
   "cell_type": "code",
   "execution_count": 13,
   "metadata": {},
   "outputs": [],
   "source": [
    "lp0, lp1, lp2 = pd.core.reshape.util.cartesian_product([IndexTable.Classification[IndexTable.index.get_loc('Scenario')].Items, IndexTable.Classification[IndexTable.index.get_loc('Good')].Items, IndexTable.Classification[IndexTable.index.get_loc('Time')].Items])\n",
    "data = pd.DataFrame(dict(scenario= lp0, drive_train=lp1, year=lp2))\n",
    "data['value'] = 0 "
   ]
  },
  {
   "cell_type": "code",
   "execution_count": 14,
   "metadata": {},
   "outputs": [],
   "source": [
    "data.loc[(data['drive_train']=='ICE') & (data['scenario']=='STEP'), 'value'] = dt_fit[0,0,:]\n",
    "data.loc[(data['drive_train']=='ICE') & (data['scenario']=='SD'), 'value'] = dt_fit[1,0,:]\n",
    "data.loc[(data['drive_train']=='ICE') & (data['scenario']=='Net Zero'), 'value'] = dt_fit[2,0,:]\n",
    "\n",
    "data.loc[(data['drive_train']=='BEV') & (data['scenario']=='STEP'), 'value'] = dt_fit[0,1,:]\n",
    "data.loc[(data['drive_train']=='BEV') & (data['scenario']=='SD'), 'value'] = dt_fit[1,1,:]\n",
    "data.loc[(data['drive_train']=='BEV') & (data['scenario']=='Net Zero'), 'value'] = dt_fit[2,1,:]\n",
    "\n",
    "data.loc[(data['drive_train']=='PHEV') & (data['scenario']=='STEP'), 'value'] = dt_fit[0,2,:]\n",
    "data.loc[(data['drive_train']=='PHEV') & (data['scenario']=='SD'), 'value'] = dt_fit[1,2,:]\n",
    "data.loc[(data['drive_train']=='PHEV') & (data['scenario']=='Net Zero'), 'value'] = dt_fit[2,2,:]\n",
    "\n",
    "data.loc[(data['drive_train']=='OTH') & (data['scenario']=='STEP'), 'value'] = dt_fit[0,3,:]\n",
    "data.loc[(data['drive_train']=='OTH') & (data['scenario']=='SD'), 'value'] = dt_fit[1,3,:]\n",
    "data.loc[(data['drive_train']=='OTH') & (data['scenario']=='Net Zero'), 'value'] = dt_fit[2,3,:]"
   ]
  },
  {
   "cell_type": "code",
   "execution_count": 15,
   "metadata": {},
   "outputs": [
    {
     "data": {
      "text/plain": [
       "array([0., 0., 0., 0., 0., 0., 0., 0., 0., 0., 0., 0., 0., 0., 0., 0., 0.,\n",
       "       0., 0., 0., 0., 0., 0., 0., 0., 0., 0., 0., 0., 0., 0., 0., 0., 0.,\n",
       "       0., 0., 0., 0., 0., 0., 0., 0., 0., 0., 0., 0., 0., 0., 0., 0., 0.,\n",
       "       0., 0., 0., 0., 0., 0., 0., 0., 0., 0., 0., 0., 0., 0., 0., 0., 0.,\n",
       "       0., 0., 0., 0., 0., 0., 0., 0., 0., 0., 0., 0., 0., 0., 0., 0., 0.,\n",
       "       0., 0., 0., 0., 0., 0., 0., 0., 0., 0., 0., 0., 0., 0., 0., 0.])"
      ]
     },
     "execution_count": 15,
     "metadata": {},
     "output_type": "execute_result"
    }
   ],
   "source": [
    "dt_fit[0,3,:]"
   ]
  },
  {
   "cell_type": "code",
   "execution_count": 16,
   "metadata": {},
   "outputs": [],
   "source": [
    "data.to_excel('/Users/fernaag/Library/CloudStorage/Box-Box/BATMAN/Data/Database/data/03_scenario_data/global_model/motorEnergy/drive_trains_IEA_scenarios.xlsx')"
   ]
  },
  {
   "cell_type": "code",
   "execution_count": 17,
   "metadata": {},
   "outputs": [],
   "source": [
    "np.save('/Users/fernaag/Library/CloudStorage/Box-Box/BATMAN/Data/Database/data/03_scenario_data/global_model/motorEnergy/motorEnergy_IEA.npy', dt_fit)"
   ]
  },
  {
   "cell_type": "code",
   "execution_count": null,
   "metadata": {},
   "outputs": [],
   "source": []
  }
 ],
 "metadata": {
  "interpreter": {
   "hash": "d2e968add10d64ad2b3be6e57835fc773ce9c934140c61480cbe8a7410362424"
  },
  "kernelspec": {
   "display_name": "Python 3.7.4 64-bit ('IAM': conda)",
   "name": "python3"
  },
  "language_info": {
   "codemirror_mode": {
    "name": "ipython",
    "version": 3
   },
   "file_extension": ".py",
   "mimetype": "text/x-python",
   "name": "python",
   "nbconvert_exporter": "python",
   "pygments_lexer": "ipython3",
   "version": "3.7.4"
  },
  "orig_nbformat": 2
 },
 "nbformat": 4,
 "nbformat_minor": 2
}
